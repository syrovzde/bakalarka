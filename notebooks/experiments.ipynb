{
 "cells": [
  {
   "cell_type": "code",
   "execution_count": 2,
   "metadata": {
    "collapsed": true,
    "pycharm": {
     "is_executing": false,
     "name": "#%%\n"
    }
   },
   "outputs": [
    {
     "name": "stdout",
     "text": [
      "The autoreload extension is already loaded. To reload it, use:\n  %reload_ext autoreload\n"
     ],
     "output_type": "stream"
    },
    {
     "traceback": [
      "\u001b[1;31m---------------------------------------------------------------------------\u001b[0m",
      "\u001b[1;31mModuleNotFoundError\u001b[0m                       Traceback (most recent call last)",
      "\u001b[1;32m<ipython-input-2-cd0f20c78c0e>\u001b[0m in \u001b[0;36m<module>\u001b[1;34m\u001b[0m\n\u001b[0;32m      2\u001b[0m \u001b[0mget_ipython\u001b[0m\u001b[1;33m(\u001b[0m\u001b[1;33m)\u001b[0m\u001b[1;33m.\u001b[0m\u001b[0mrun_line_magic\u001b[0m\u001b[1;33m(\u001b[0m\u001b[1;34m'autoreload'\u001b[0m\u001b[1;33m,\u001b[0m \u001b[1;34m'2'\u001b[0m\u001b[1;33m)\u001b[0m\u001b[1;33m\u001b[0m\u001b[1;33m\u001b[0m\u001b[0m\n\u001b[0;32m      3\u001b[0m \u001b[1;32mimport\u001b[0m \u001b[0mpandas\u001b[0m\u001b[1;33m\u001b[0m\u001b[1;33m\u001b[0m\u001b[0m\n\u001b[1;32m----> 4\u001b[1;33m \u001b[1;32mimport\u001b[0m \u001b[0mmarket_efficiency\u001b[0m\u001b[1;33m.\u001b[0m\u001b[0mmain\u001b[0m \u001b[1;32mas\u001b[0m \u001b[0mmain\u001b[0m\u001b[1;33m\u001b[0m\u001b[1;33m\u001b[0m\u001b[0m\n\u001b[0m\u001b[0;32m      5\u001b[0m \u001b[1;32mimport\u001b[0m \u001b[0mmarket_efficiency\u001b[0m\u001b[1;33m.\u001b[0m\u001b[0mgenerating_method\u001b[0m \u001b[1;32mas\u001b[0m \u001b[0mgenerating_method\u001b[0m\u001b[1;33m\u001b[0m\u001b[1;33m\u001b[0m\u001b[0m\n\u001b[0;32m      6\u001b[0m \u001b[1;32mimport\u001b[0m \u001b[0mmarket_efficiency\u001b[0m\u001b[1;33m.\u001b[0m\u001b[0mmethod\u001b[0m \u001b[1;32mas\u001b[0m \u001b[0mmethod\u001b[0m\u001b[1;33m\u001b[0m\u001b[1;33m\u001b[0m\u001b[0m\n",
      "\u001b[1;31mModuleNotFoundError\u001b[0m: No module named 'market_efficiency'"
     ],
     "ename": "ModuleNotFoundError",
     "evalue": "No module named 'market_efficiency'",
     "output_type": "error"
    }
   ],
   "source": [
    "%load_ext autoreload\n",
    "%autoreload 2\n",
    "import pandas\n",
    "import market_efficiency.main as main\n",
    "import market_efficiency.generating_method as generating_method\n",
    "import market_efficiency.method as method\n",
    "import matplotlib.pyplot as plt\n",
    "import numpy as np\n",
    "import pickle\n",
    "\n",
    "data = pandas.read_csv(\"data_2020.csv\")\n",
    "data = data.dropna()\n",
    "data['results'] = main.getResults(data)\n",
    "print(data['results'],data['HSC'],data['ASC'])"
   ]
  },
  {
   "cell_type": "code",
   "execution_count": 3,
   "outputs": [],
   "source": [
    "Methods = ['basic','or','shin','power','wpo']\n",
    "HOMEWIN = 2\n",
    "AWAYWIN = 1\n",
    "DRAW = 0\n",
    "fair = True\n",
    "closed_odds = np.ones((5,len(data['results']),3))\n",
    "starting_odds = np.ones(closed_odds.shape)\n",
    "generating = generating_method.GeneratingMethod(data=data,bet_choices=3)\n",
    "for i in range(len(Methods)):\n",
    "    closed_odds[i] =  generating.find_fair_odds(method=Methods[i],odds_columns=method.CLOSED)\n",
    "    starting_odds[i] = generating.find_fair_odds(method=Methods[i],odds_columns=method.START)\n",
    "unfair_closed_odds = generating.find_odds(odds_columns=method.CLOSED)\n",
    "unfair_open_odds = generating.find_odds(odds_columns=method.START)\n",
    "odds = np.array([closed_odds,starting_odds])\n"
   ],
   "metadata": {
    "collapsed": false,
    "pycharm": {
     "name": "#%%\n",
     "is_executing": false
    }
   }
  },
  {
   "cell_type": "code",
   "execution_count": 11,
   "outputs": [
    {
     "name": "stdout",
     "text": [
      "-978.9726000000003\n"
     ],
     "output_type": "stream"
    },
    {
     "data": {
      "text/plain": "'for j in range(len(Methods)):\\n    fig,axs = plt.subplots(1,2)\\n    for i,closed in enumerate([True,False]):\\n        data[\\'home\\'] = main.randomSingle(data,HOMEWIN,odds=odds[i,j])\\n        data[\\'away\\'] = main.randomSingle(data,AWAYWIN,odds=odds[i,j])    \\n        data[\\'draw\\'] = main.randomSingle(data,DRAW,odds=odds[i,j])\\n        data[\\'favourite\\'] = main.betFavourite(data,odds=odds[i,j])\\n        data[\\'underdog\\'] = main.betUnderdog(data,odds=odds[i,j])\\n        des =  Descriptions[i] + \", \" + Methods[j]\\n        axs[i].set_xlabel(des)\\n        data[[\\'home\\',\\'away\\',\\'draw\\',\\'favourite\\',\\'underdog\\']].cumsum().plot(ax=axs[i])\\n    plt.savefig(Methods[j]+\".png\")'"
     },
     "metadata": {},
     "output_type": "execute_result",
     "execution_count": 11
    }
   ],
   "source": [
    "Descriptions = [\"closed\",\"starting\"]\n",
    "print(np.sum(main.randomSingle(data,HOMEWIN,odds=unfair_open_odds)))\n",
    "\"\"\"for j in range(len(Methods)):\n",
    "    fig,axs = plt.subplots(1,2)\n",
    "    for i,closed in enumerate([True,False]):\n",
    "        data['home'] = main.randomSingle(data,HOMEWIN,odds=odds[i,j])\n",
    "        data['away'] = main.randomSingle(data,AWAYWIN,odds=odds[i,j])    \n",
    "        data['draw'] = main.randomSingle(data,DRAW,odds=odds[i,j])\n",
    "        data['favourite'] = main.betFavourite(data,odds=odds[i,j])\n",
    "        data['underdog'] = main.betUnderdog(data,odds=odds[i,j])\n",
    "        des =  Descriptions[i] + \", \" + Methods[j]\n",
    "        axs[i].set_xlabel(des)\n",
    "        data[['home','away','draw','favourite','underdog']].cumsum().plot(ax=axs[i])\n",
    "    plt.savefig(Methods[j]+\".png\")\"\"\""
   ],
   "metadata": {
    "collapsed": false,
    "pycharm": {
     "name": "#%%\n",
     "is_executing": false
    }
   }
  },
  {
   "cell_type": "code",
   "execution_count": 14,
   "outputs": [
    {
     "name": "stdout",
     "text": [
      "1.0071787299685915\nover-all dataset kl-distance is: 0.083\n",
      "1.01201252908345\nover-all dataset kl-distance is: 0.079\n"
     ],
     "output_type": "stream"
    }
   ],
   "source": [
    "subintervals = 50\n",
    "print(\"over-all dataset kl-distance is: {0:.3f}\".format(main.kl_divergence(data,closed=True,margin=Methods[0])))\n",
    "print(\"over-all dataset kl-distance is: {0:.3f}\".format(main.kl_divergence(data,closed=False,margin=Methods[0])))\n"
   ],
   "metadata": {
    "collapsed": false,
    "pycharm": {
     "name": "#%%\n",
     "is_executing": false
    }
   }
  },
  {
   "cell_type": "code",
   "execution_count": 11,
   "outputs": [
    {
     "name": "stdout",
     "text": [
      "1.0 0.8306209124294177\n"
     ],
     "output_type": "stream"
    }
   ],
   "source": [
    "lin,log = main.regression(data,odds[1,0])\n",
    "print(lin,log)\n"
   ],
   "metadata": {
    "collapsed": false,
    "pycharm": {
     "name": "#%%\n",
     "is_executing": false
    }
   }
  },
  {
   "cell_type": "code",
   "execution_count": 10,
   "outputs": [
    {
     "name": "stdout",
     "text": [
      "[0.         0.         0.         0.         0.         0.\n 0.         0.         0.17271529 0.         0.         0.\n 0.         0.         0.         0.         0.         0.\n 0.         0.         0.         0.         0.         0.\n 0.         0.         0.         0.         0.         0.\n 0.         0.         0.         0.         0.         0.\n 0.         0.         0.         0.         0.         0.\n 0.         0.         0.         0.         0.         0.\n 0.         0.         0.         0.         0.         0.\n 0.         0.         0.         0.         0.         0.\n 0.         0.         0.         0.         0.         0.\n 0.         0.         0.         0.         0.         0.\n 0.         0.         0.         0.         0.         0.\n 0.         0.         0.         0.         0.         0.\n 0.         0.         0.         0.         0.         0.\n 0.         0.         0.         0.         0.         0.\n 0.         0.         0.         0.         0.         0.\n 2.44734133 0.         0.         0.         0.         0.\n 0.         0.         0.         0.         0.         0.\n 0.         0.         0.         0.         0.         0.\n 0.         0.         0.         0.         0.         0.\n 0.         0.         0.         0.         0.         0.\n 0.         0.         0.         0.         0.         0.\n 0.         0.         0.         0.         0.         0.\n 0.         0.         0.         0.         0.         0.        ]\n"
     ],
     "output_type": "stream"
    },
    {
     "data": {
      "text/plain": "{'whiskers': [<matplotlib.lines.Line2D at 0x1f3072c02e8>,\n  <matplotlib.lines.Line2D at 0x1f308155438>],\n 'caps': [<matplotlib.lines.Line2D at 0x1f308155780>,\n  <matplotlib.lines.Line2D at 0x1f308155ac8>],\n 'boxes': [<matplotlib.lines.Line2D at 0x1f30813ecc0>],\n 'medians': [<matplotlib.lines.Line2D at 0x1f308155e10>],\n 'fliers': [<matplotlib.lines.Line2D at 0x1f308155ef0>],\n 'means': []}"
     },
     "metadata": {},
     "output_type": "execute_result",
     "execution_count": 10
    },
    {
     "data": {
      "text/plain": "<Figure size 432x288 with 1 Axes>",
      "image/png": "[encoded data removed]"
     },
     "metadata": {
      "needs_background": "light"
     },
     "output_type": "display_data"
    }
   ],
   "source": [
    "bettor_count = 150\n",
    "bankrolls_closed,iteration_closed = main.bettorsWithBankroll(data,count=bettor_count,fraction=1/5,bankroll=10,\n",
    "                                               iterations=400,threshold=1/100,odds=unfair_closed_odds)\n",
    "bankrolls_open,iteration_open = main.bettorsWithBankroll(data,count=bettor_count,fraction=1/5,bankroll=10,\n",
    "                                               iterations=400,threshold=1/100,odds=unfair_open_odds)\n",
    "print(bankrolls_closed)\n",
    "plt.boxplot(bankrolls_open,vert=False)"
   ],
   "metadata": {
    "collapsed": false,
    "pycharm": {
     "name": "#%%\n",
     "is_executing": false
    }
   }
  }
 ],
 "metadata": {
  "language_info": {
   "codemirror_mode": {
    "name": "ipython",
    "version": 2
   },
   "file_extension": ".py",
   "mimetype": "text/x-python",
   "name": "python",
   "nbconvert_exporter": "python",
   "pygments_lexer": "ipython2",
   "version": "2.7.6"
  },
  "kernelspec": {
   "name": "pycharm-3c5d7e46",
   "language": "python",
   "display_name": "PyCharm (bakalarka)"
  },
  "pycharm": {
   "stem_cell": {
    "cell_type": "raw",
    "source": [],
    "metadata": {
     "collapsed": false
    }
   }
  }
 },
 "nbformat": 4,
 "nbformat_minor": 0
}