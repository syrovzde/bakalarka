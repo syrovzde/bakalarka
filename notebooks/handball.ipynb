{
 "cells": [
  {
   "cell_type": "code",
   "execution_count": null,
   "metadata": {
    "collapsed": true
   },
   "outputs": [],
   "source": [
    "%load_ext autoreload\n",
    "%autoreload 2\n",
    "import pandas\n",
    "import matplotlib.pyplot as plt\n",
    "import sys\n",
    "sys.path.append('..')\n",
    "import market_efficiency.pipeline as pipeline\n",
    "pipeline.default_schema = 'handball'"
   ]
  },
  {
   "cell_type": "markdown",
   "source": [
    "# Market efficiency of football football market from available data \n"
   ],
   "metadata": {
    "collapsed": false
   }
  },
  {
   "cell_type": "markdown",
   "source": [
    "Testing of simple strategies(home bet,away bet, draw,favourite,underdog)"
   ],
   "metadata": {
    "collapsed": false
   }
  },
  {
   "cell_type": "code",
   "execution_count": null,
   "outputs": [],
   "source": [
    "opened,closed = pipeline.simple_tests(market='bts',fair=False)\n",
    "opened.cumsum().plot()\n",
    "closed.cumsum().plot()"
   ],
   "metadata": {
    "collapsed": false,
    "pycharm": {
     "name": "#%%\n"
    }
   }
  },
  {
   "cell_type": "code",
   "execution_count": null,
   "outputs": [],
   "source": [
    "opened,closed = pipeline.simple_tests(market='1x2',fair=False)\n",
    "opened.cumsum().plot()\n",
    "closed.cumsum().plot()"
   ],
   "metadata": {
    "collapsed": false,
    "pycharm": {
     "name": "#%%\n"
    }
   }
  },
  {
   "cell_type": "code",
   "execution_count": null,
   "outputs": [],
   "source": [
    "opened,closed = pipeline.simple_tests(market='ou',fair=False)\n",
    "opened.cumsum().plot()\n",
    "closed.cumsum().plot()\n"
   ],
   "metadata": {
    "collapsed": false,
    "pycharm": {
     "name": "#%%\n"
    }
   }
  },
  {
   "cell_type": "code",
   "execution_count": null,
   "outputs": [],
   "source": [
    "fig, axs = plt.subplots(    )\n",
    "df = pipeline.random_tests(market='1x2',margin='power')\n",
    "df.boxplot()\n",
    "plt.show()\n",
    "df = pipeline.random_tests(market='bts',margin='power')\n",
    "df.boxplot()\n",
    "plt.show()\n",
    "df = pipeline.random_tests(market='ou',margin='power')\n",
    "df.boxplot()\n",
    "plt.show()\n"
   ],
   "metadata": {
    "collapsed": false,
    "pycharm": {
     "name": "#%%\n"
    }
   }
  },
  {
   "cell_type": "code",
   "execution_count": null,
   "outputs": [],
   "source": [
    "opened,closed = pipeline.kl_test(market='1x2')\n",
    "print(closed,opened)\n",
    "opened,closed  = pipeline.kl_test(market='bts')\n",
    "print(closed,opened)\n",
    "opened,closed = pipeline.kl_test(market='ou')\n",
    "print(closed,opened)#%%#%%\n"
   ],
   "metadata": {
    "collapsed": false,
    "pycharm": {
     "name": "#%%\n"
    }
   }
  }
 ],
 "metadata": {
  "language_info": {
   "codemirror_mode": {
    "name": "ipython",
    "version": 2
   },
   "file_extension": ".py",
   "mimetype": "text/x-python",
   "name": "python",
   "nbconvert_exporter": "python",
   "pygments_lexer": "ipython2",
   "version": "2.7.6"
  },
  "kernelspec": {
   "name": "python3",
   "language": "python",
   "display_name": "Python 3"
  },
  "pycharm": {
   "stem_cell": {
    "cell_type": "raw",
    "source": [],
    "metadata": {
     "collapsed": false
    }
   }
  }
 },
 "nbformat": 4,
 "nbformat_minor": 0
}