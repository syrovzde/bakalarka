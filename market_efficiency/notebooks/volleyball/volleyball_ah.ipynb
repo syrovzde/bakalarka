{
 "cells": [
  {
   "cell_type": "code",
   "execution_count": 1,
   "outputs": [],
   "source": [
    "%load_ext autoreload\n",
    "%autoreload 2\n",
    "import main"
   ],
   "metadata": {
    "collapsed": false,
    "pycharm": {
     "name": "#%%\n"
    }
   }
  },
  {
   "cell_type": "code",
   "execution_count": 2,
   "outputs": [],
   "source": [
    "csv_files = ['volleyball_ah.csv']\n",
    "csv_schemas = ['volleyball']\n",
    "csv_markets = ['ah']\n",
    "bookmakers = [ 'bet-at-home', 'bwin', 'Unibet', 'BetVictor', 'Tipsport.cz', 'Betsafe', 'Pinnacle', 'Chance.cz', 'GoldBet' ,'188BET']\n",
    "\n",
    "\n",
    "%matplotlib inline\n",
    "main.all_csv_test(csv_files=csv_files,csv_schemas=csv_schemas,csv_markets=csv_markets,bookmakers=bookmakers)"
   ],
   "metadata": {
    "collapsed": false,
    "pycharm": {
     "name": "#%%\n"
    }
   }
  }
 ],
 "metadata": {
  "kernelspec": {
   "display_name": "Python 3",
   "language": "python",
   "name": "python3"
  },
  "language_info": {
   "codemirror_mode": {
    "name": "ipython",
    "version": 2
   },
   "file_extension": ".py",
   "mimetype": "text/x-python",
   "name": "python",
   "nbconvert_exporter": "python",
   "pygments_lexer": "ipython2",
   "version": "2.7.6"
  }
 },
 "nbformat": 4,
 "nbformat_minor": 0
}